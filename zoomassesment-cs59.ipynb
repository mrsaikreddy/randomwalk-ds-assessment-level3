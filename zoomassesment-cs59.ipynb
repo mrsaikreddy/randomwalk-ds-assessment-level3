{
 "cells": [
  {
   "cell_type": "code",
   "execution_count": 55,
   "id": "51f2728a-e905-4ee8-86de-4b95cca9ac8b",
   "metadata": {},
   "outputs": [],
   "source": [
    "#SAI KIRAN REDDY K\n",
    "#PRO INDIA ASSESMENT 3\n",
    "import pandas as pd\n",
    "import matplotlib.pyplot as plt"
   ]
  },
  {
   "cell_type": "code",
   "execution_count": 56,
   "id": "bfd96b66-2bae-4382-9d5a-b577655e86e7",
   "metadata": {},
   "outputs": [
    {
     "data": {
      "text/plain": [
       "<bound method DataFrame.info of         user_id  book_id  rating\n",
       "0             8     2584       5\n",
       "1             4       87       5\n",
       "2             4      495       4\n",
       "3             9      344       4\n",
       "4             9      372       4\n",
       "...         ...      ...     ...\n",
       "233378    36947     6939       5\n",
       "233379    22352      617       2\n",
       "233380    42785     1613       4\n",
       "233381    10622      610       5\n",
       "233382    35336      317       5\n",
       "\n",
       "[233383 rows x 3 columns]>"
      ]
     },
     "execution_count": 56,
     "metadata": {},
     "output_type": "execute_result"
    }
   ],
   "source": [
    "#load the datasets \n",
    "books = pd.read_csv('books.csv')\n",
    "book_tags = pd.read_csv('book_tags.csv')\n",
    "ratings = pd.read_csv('ratings.csv')\n",
    "\n",
    "# info on data sets \n",
    "books.info\n",
    "book_tags.info\n",
    "ratings.info"
   ]
  },
  {
   "cell_type": "code",
   "execution_count": 57,
   "id": "ffde68bd-5aba-4236-89cd-246232188611",
   "metadata": {},
   "outputs": [
    {
     "name": "stdout",
     "output_type": "stream",
     "text": [
      "36\n",
      "0\n",
      "0\n"
     ]
    }
   ],
   "source": [
    "# Check for missing values in key columns\n",
    "print(books['original_title'].isna().sum())\n",
    "print(book_tags['tag_id'].isna().sum())\n",
    "print(ratings['user_id'].isna().sum())"
   ]
  },
  {
   "cell_type": "code",
   "execution_count": 58,
   "id": "427a599f-1ed2-4d0a-991f-10123af97a27",
   "metadata": {},
   "outputs": [
    {
     "name": "stdout",
     "output_type": "stream",
     "text": [
      "Number of books without an original title: 36\n"
     ]
    }
   ],
   "source": [
    "#Number of books without an original title\n",
    "books_wot = books['original_title'].isna().sum()\n",
    "print(f\"Number of books without an original title: {books_wot}\")"
   ]
  },
  {
   "cell_type": "code",
   "execution_count": 64,
   "id": "da6157b8-6b50-4515-add1-58be2ac11eca",
   "metadata": {},
   "outputs": [
    {
     "name": "stdout",
     "output_type": "stream",
     "text": [
      "Unique books count after filtering null original_title and corresponding records in other datasets: 363\n"
     ]
    }
   ],
   "source": [
    "#Unique books count after filtering null original_title and corresponding records in other datasets\n",
    "filtered_books_df = books.dropna(subset=['original_title']) #drop null value\n",
    "unique_books_count = filtered_books_df['book_id'].nunique()\n",
    "print(f\"Unique books count after filtering null original_title and corresponding records in other datasets: {unique_books_count}\")"
   ]
  },
  {
   "cell_type": "code",
   "execution_count": 65,
   "id": "dc9b9d21-536f-4348-aab1-cc1839345a46",
   "metadata": {},
   "outputs": [],
   "source": [
    "filtered_book_tags_df = book_tags[book_tags['goodreads_book_id'].isin(filtered_books_df)]\n",
    "filtered_ratings_df = ratings[ratings['book_id'].isin(filtered_books_df)]\n",
    "#with updated data all ans were  0 , proceing with normal data "
   ]
  },
  {
   "cell_type": "code",
   "execution_count": 66,
   "id": "eec9419c-7bea-4b50-a1c2-7969af8113e2",
   "metadata": {},
   "outputs": [
    {
     "name": "stdout",
     "output_type": "stream",
     "text": [
      "Unique users in the dataset ;40836\n"
     ]
    }
   ],
   "source": [
    "unique_users_count = ratings_df['user_id'].nunique()\n",
    "print(f'Unique users in the dataset ;{unique_users_count}')"
   ]
  },
  {
   "cell_type": "code",
   "execution_count": 68,
   "id": "94554021-3e3d-4577-b042-6e073eac27ea",
   "metadata": {},
   "outputs": [
    {
     "name": "stdout",
     "output_type": "stream",
     "text": [
      "Unique tags in the dataset :3651\n"
     ]
    }
   ],
   "source": [
    "unique_tags_count = book_tags['tag_id'].nunique()\n",
    "print(f'Unique tags in the dataset :{unique_tags_count}')"
   ]
  },
  {
   "cell_type": "code",
   "execution_count": 69,
   "id": "0403a556-f1f7-412f-8731-3117f4dd7355",
   "metadata": {},
   "outputs": [
    {
     "name": "stdout",
     "output_type": "stream",
     "text": [
      "Most frequently used tag_id :30574\n"
     ]
    }
   ],
   "source": [
    "# Most frequently used tag_id\n",
    "most_frequent_tag_id = book_tags.groupby('tag_id')['count'].sum().idxmax()\n",
    "print(f\"Most frequently used tag_id :{most_frequent_tag_id}\")"
   ]
  },
  {
   "cell_type": "code",
   "execution_count": 52,
   "id": "e5539f1d-817c-4c29-b421-7f9d80650cca",
   "metadata": {},
   "outputs": [
    {
     "name": "stdout",
     "output_type": "stream",
     "text": [
      "Book with the most number of tag counts:'Tis (Frank McCourt, #2)\n"
     ]
    }
   ],
   "source": [
    "#Book with the most number of tag counts\n",
    "merged_df = pd.merge(books, book_tags, how='left', on='goodreads_book_id')\n",
    "most_tagged_book = merged_df.groupby('title')['count'].sum().idxmax()\n",
    "print(f'Book with the most number of tag counts:{most_tagged_book}')"
   ]
  },
  {
   "cell_type": "code",
   "execution_count": 71,
   "id": "8623d0bf-3054-4306-9afd-6923b3e81f11",
   "metadata": {},
   "outputs": [
    {
     "data": {
      "image/png": "[encoded data removed]",
      "text/plain": [
       "<Figure size 1200x200 with 1 Axes>"
      ]
     },
     "metadata": {},
     "output_type": "display_data"
    }
   ],
   "source": [
    "# Assuming book_tags_df is already loaded and correct\n",
    "top_tags = book_tags.groupby('tag_id')['count'].sum().sort_values(ascending=False).head(20)\n",
    "top_tags_ids = top_tags.index.tolist()\n",
    "top_tags_counts = top_tags.values.tolist()\n",
    "\n",
    "# Plotting the bar chart\n",
    "plt.figure(figsize=(12, 2))\n",
    "plt.bar(top_tags_ids, top_tags_counts, color='skyblue')\n",
    "plt.title('Top 20 Unique Tags in Descending Order of User Records')\n",
    "plt.xlabel('Tag ID')\n",
    "plt.ylabel('Number of User Records')\n",
    "plt.xticks(rotation=45)\n",
    "plt.show()"
   ]
  },
  {
   "cell_type": "code",
   "execution_count": null,
   "id": "2f521ce4-7940-4c4f-93bf-bceaa4b57353",
   "metadata": {},
   "outputs": [],
   "source": []
  },
  {
   "cell_type": "code",
   "execution_count": null,
   "id": "6a3c4a88-806a-4707-b8bb-ed9871853bbe",
   "metadata": {},
   "outputs": [],
   "source": []
  }
 ],
 "metadata": {
  "kernelspec": {
   "display_name": "Python 3 (ipykernel)",
   "language": "python",
   "name": "python3"
  },
  "language_info": {
   "codemirror_mode": {
    "name": "ipython",
    "version": 3
   },
   "file_extension": ".py",
   "mimetype": "text/x-python",
   "name": "python",
   "nbconvert_exporter": "python",
   "pygments_lexer": "ipython3",
   "version": "3.11.7"
  }
 },
 "nbformat": 4,
 "nbformat_minor": 5
}
